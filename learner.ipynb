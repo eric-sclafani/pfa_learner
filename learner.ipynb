{
 "cells": [
  {
   "cell_type": "markdown",
   "id": "435febec",
   "metadata": {},
   "source": [
    "# Imports and functions\n",
    "\n",
    "\n",
    "## Jeff notes\n",
    "\n",
    "MLE(dfa, corpus) = dfa' \n",
    "\n",
    "create_SL2_dfa (alphabet\n",
    "\n",
    "getalphabet(corpus) = set_of_letters \n",
    "\n",
    "Q = all strings of length less than k\n",
    "\n",
    "I = \"\" \n",
    "\n",
    "F = Q\n",
    "\n",
    "delta(q,a) = k-1 suffix of qa \n",
    "\n",
    "example: (a,b) = k-1 suffix of ab which is b (k=2)\n",
    "\n",
    "Example; Suppose k=4. Then delta(aaa,b) = 3 suffix of aaab, which is aab \n",
    "\n",
    "Also if qa is of length less than k-1 than the k-1 suffix of qa is just qa \n",
    "\n",
    "3 suffix of aa is aa\n",
    "\n",
    "BIGRAM: all possible states given alphabet (given k)\n",
    "\n",
    "42 SP machines, 1 SL machine"
   ]
  },
  {
   "cell_type": "code",
   "execution_count": 2,
   "id": "847077f7",
   "metadata": {},
   "outputs": [
    {
     "data": {
      "text/plain": [
       "{'N',\n",
       " 'a',\n",
       " 'b',\n",
       " 'bh',\n",
       " 'bv',\n",
       " 'ch',\n",
       " 'd',\n",
       " 'dh',\n",
       " 'dy',\n",
       " 'dz',\n",
       " 'dzv',\n",
       " 'e',\n",
       " 'f',\n",
       " 'g',\n",
       " 'h',\n",
       " 'i',\n",
       " 'j',\n",
       " 'k',\n",
       " 'm',\n",
       " 'mh',\n",
       " 'n',\n",
       " 'nh',\n",
       " 'ny',\n",
       " 'o',\n",
       " 'p',\n",
       " 'pf',\n",
       " 'r',\n",
       " 's',\n",
       " 'sh',\n",
       " 'sv',\n",
       " 't',\n",
       " 'ts',\n",
       " 'tsv',\n",
       " 'ty',\n",
       " 'u',\n",
       " 'v',\n",
       " 'vh',\n",
       " 'w',\n",
       " 'y',\n",
       " 'z',\n",
       " 'zh',\n",
       " 'zv'}"
      ]
     },
     "execution_count": 2,
     "metadata": {},
     "output_type": "execute_result"
    }
   ],
   "source": [
    "from pyfoma import FST, State\n",
    "\n",
    "fish = \"⋉\"\n",
    "\n",
    "def data_iterator(path):\n",
    "    \"\"\"Yield a word as a list of tokens\"\"\"\n",
    "    with open (path, \"r\") as fin:\n",
    "        for line in fin.readlines():\n",
    "            yield line.split()\n",
    "            \n",
    "def make_alphabet(path_to_corpus):\n",
    "    alph = set()\n",
    "    for word in data_iterator(path_to_corpus):\n",
    "        alph = alph.union(set(word))\n",
    "    return alph\n",
    "\n",
    "def make_2_SL_dfa(alphabet):\n",
    "    pass\n",
    "    \n",
    "\n",
    "\n",
    "\n",
    "\n",
    "make_alphabet(\"data/LearningData.txt\")"
   ]
  },
  {
   "cell_type": "code",
   "execution_count": 21,
   "id": "3b5ff15b",
   "metadata": {},
   "outputs": [
    {
     "data": {
      "text/plain": [
       "1"
      ]
     },
     "execution_count": 21,
     "metadata": {},
     "output_type": "execute_result"
    }
   ],
   "source": []
  },
  {
   "cell_type": "code",
   "execution_count": null,
   "id": "c94a6973",
   "metadata": {},
   "outputs": [],
   "source": []
  }
 ],
 "metadata": {
  "kernelspec": {
   "display_name": "Python 3 (ipykernel)",
   "language": "python",
   "name": "python3"
  },
  "language_info": {
   "codemirror_mode": {
    "name": "ipython",
    "version": 3
   },
   "file_extension": ".py",
   "mimetype": "text/x-python",
   "name": "python",
   "nbconvert_exporter": "python",
   "pygments_lexer": "ipython3",
   "version": "3.10.6"
  }
 },
 "nbformat": 4,
 "nbformat_minor": 5
}
