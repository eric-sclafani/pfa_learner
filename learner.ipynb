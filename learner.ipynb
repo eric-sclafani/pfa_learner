{
 "cells": [
  {
   "cell_type": "markdown",
   "id": "435febec",
   "metadata": {},
   "source": [
    "# Learnability Project: PFA Phonotactic Learner\n",
    "\n",
    "------\n",
    "\n",
    "Notes:\n",
    "- sum log probs along path given string\n",
    "\n",
    "## General functions and other stuff"
   ]
  },
  {
   "cell_type": "code",
   "execution_count": 295,
   "id": "847077f7",
   "metadata": {},
   "outputs": [],
   "source": [
    "from pyfoma import FST, State\n",
    "from math import log, exp\n",
    "\n",
    "lam = \"λ\"\n",
    "\n",
    "\n",
    "def data_iterator(path):\n",
    "    \"\"\"Yield a word as a list of tokens\"\"\"\n",
    "    with open (path, \"r\") as fin:\n",
    "        for line in fin.readlines():\n",
    "            yield line.split()\n",
    "              \n",
    "def make_alphabet(path) -> list:\n",
    "    \"\"\"This function extracts an alphabet from a corpusl\"\"\"\n",
    "    alph = []\n",
    "    for word in data_iterator(path):\n",
    "        for sym in word:\n",
    "            if sym not in alph:\n",
    "                alph.append(sym)\n",
    "    return alph"
   ]
  },
  {
   "cell_type": "markdown",
   "id": "769e70fc",
   "metadata": {},
   "source": [
    "## Strictly 2-Local DFA Creation"
   ]
  },
  {
   "cell_type": "code",
   "execution_count": 252,
   "id": "f50f441a",
   "metadata": {},
   "outputs": [],
   "source": [
    "def make_SL2_dfa(alphabet:list) -> list[FST]:\n",
    "    \"\"\"This function initializes a 2-SL DFA according to an alphabet. All weights are set to 0 by default\"\"\"\n",
    "    \n",
    "    # create the FST object and instantiate the initial state\n",
    "    dfa = FST()\n",
    "    q0 = dfa.initialstate\n",
    "    q0.finalweight = 0\n",
    "    q0.name = lam\n",
    "    states = {q0,}\n",
    "    \n",
    "    # initialize all states and connect q0 to them\n",
    "    for sym in alphabet:\n",
    "        q = State()\n",
    "        q.name = sym\n",
    "        q0.add_transition(q, sym, 0)\n",
    "        states.add(q)\n",
    "        q.finalweight = 0\n",
    "    \n",
    "    # loopify the states, excluding q0\n",
    "    states_no_q0 = set([s for s in states if s.name != lam])\n",
    "    for state1 in states_no_q0:\n",
    "        for state2 in states_no_q0:\n",
    "            state1.add_transition(state2, state2.name, 0)\n",
    "    \n",
    "    dfa.states      = states\n",
    "    dfa.finalstates = states\n",
    "    dfa.alphabet    = alphabet\n",
    "    \n",
    "    return [dfa]"
   ]
  },
  {
   "cell_type": "markdown",
   "id": "def0b535",
   "metadata": {},
   "source": [
    "## Strictly 2-Piecewise Creation"
   ]
  },
  {
   "cell_type": "code",
   "execution_count": 229,
   "id": "3b5ff15b",
   "metadata": {},
   "outputs": [],
   "source": [
    "def make_SP2_dfas(alphabet:list) -> list[FST]:\n",
    "    \"\"\"This function intitializes 2SP machines according the length of the alphabet\"\"\"\n",
    "    SP2_machines = []\n",
    "    \n",
    "    # initializes all 2 state machines and loopify them\n",
    "    for sym1 in alphabet:\n",
    "        dfa             = FST()\n",
    "        q0              = dfa.initialstate\n",
    "        q0.finalweight  = 0\n",
    "        q0.name         = lam\n",
    "        q1              = State()\n",
    "        q1.finalweight  = 0\n",
    "        q1.name         = sym1\n",
    "        dfa.states      = {q0, q1}\n",
    "        dfa.finalstates = {q0, q1}\n",
    "        dfa.alphabet    = alphabet\n",
    "        q0.add_transition(q1, sym1, 0)\n",
    "        \n",
    "        # loopification\n",
    "        for sym2 in alphabet:\n",
    "            if sym1 != sym2:\n",
    "                q0.add_transition(q0, sym2, 0)\n",
    "            \n",
    "            q1.add_transition(q1, sym2, 0)\n",
    "        \n",
    "        SP2_machines.append(dfa)\n",
    "     \n",
    "    return SP2_machines"
   ]
  },
  {
   "cell_type": "markdown",
   "id": "94d6c65d",
   "metadata": {},
   "source": [
    "## MLE"
   ]
  },
  {
   "cell_type": "code",
   "execution_count": 315,
   "id": "4f2d3ab2",
   "metadata": {},
   "outputs": [],
   "source": [
    "def update_transitions(dfas:list[FST], path:str) -> list[FST]:\n",
    "   \n",
    "    for word in data_iterator(path):\n",
    "        for dfa in dfas:\n",
    "            cs = dfa.initialstate # gets set back to q0 when a new word is processed\n",
    "            \n",
    "            for token in word:\n",
    "                for _, trans in cs.all_transitions():\n",
    "\n",
    "                    if trans.label == token: # find the transition that matches the current token\n",
    "                        trans.weight += 1\n",
    "                        \n",
    "                    if token == trans.targetstate.name: # update cs to transition's target state. This is how we \"traverse\" the states\n",
    "                        cs = trans.targetstate\n",
    "                                 \n",
    "            cs.finalweight += 1 # update the weight of the last state the current string ends in\n",
    "            \n",
    "    return dfas\n",
    "\n",
    "def get_trans_sum(state):\n",
    "    \"\"\"sums all the transition weights (counts) and the finalweight for given state \"\"\"\n",
    "    return sum([tran.weight for _, tran in state.all_transitions()])\n",
    "\n",
    "\n",
    "def assert_sum_to_1(dfa:FST) -> None:\n",
    "    \"\"\"This function asserts that each state's transition weights sum to 1 for given DFA\"\"\"\n",
    "    for state in dfa.states:\n",
    "        try:\n",
    "            total = get_trans_sum(state) + state.finalweight\n",
    "            assert total > .99 # accounts for floating point precision\n",
    "\n",
    "        except AssertionError:\n",
    "            print(f\"State: {state.name} is misbehaving!\\nWeighted sum: {total} != 1\")\n",
    "            raise RuntimeError\n",
    "\n",
    "def MLE(dfas:list[FST], path:str) -> list[FST]:\n",
    "    \"\"\"This function takes one or more dfas, updates the weights from a corpus, and normalizes\"\"\"\n",
    "    dfas = update_transitions(dfas, path)\n",
    "    \n",
    "    for dfa in dfas:\n",
    "        all_state_trans_sums = [get_trans_sum(state) + state.finalweight for state in dfa.states]# list of state weight sums for current dfa\n",
    "\n",
    "        for i, state in enumerate(dfa.states):\n",
    "            for _, trans in state.all_transitions():\n",
    "\n",
    "                #  normalize transition weight by sum of the state's transition weights\n",
    "                trans.weight = (trans.weight) / all_state_trans_sums[i]\n",
    "\n",
    "            state.finalweight = (state.finalweight / all_state_trans_sums[i])\n",
    "\n",
    "        assert_sum_to_1(dfa)\n",
    "    return dfas"
   ]
  },
  {
   "cell_type": "markdown",
   "id": "b0b93056",
   "metadata": {},
   "source": [
    "## Define the alphabets"
   ]
  },
  {
   "cell_type": "code",
   "execution_count": 316,
   "id": "e44f14ec",
   "metadata": {},
   "outputs": [],
   "source": [
    "# Learning data paths\n",
    "debug   = \"data/eric_debugging_data.txt\"\n",
    "toy     = \"data/LearningData.txt\"\n",
    "navajo  = \"data/LearningData_navajo.txt\"\n",
    "quechua = \"data/LearningData_quechua.txt\"\n",
    "\n",
    "debug_alph   = make_alphabet(debug)\n",
    "toy_alph     = make_alphabet(toy)\n",
    "navajo_alph  = make_alphabet(navajo)\n",
    "quechua_alph = make_alphabet(quechua)"
   ]
  },
  {
   "cell_type": "markdown",
   "id": "8a863161",
   "metadata": {},
   "source": [
    "## Debugging"
   ]
  },
  {
   "cell_type": "code",
   "execution_count": 317,
   "id": "6194f791",
   "metadata": {
    "scrolled": true
   },
   "outputs": [],
   "source": [
    "db_SL2     = make_SL2_dfa(debug_alph)\n",
    "db_SL2_MLE = MLE(db_SL2, debug)\n",
    "\n",
    "db_SP2     = make_SP2_dfas(debug_alph)\n",
    "db_SP2_MLE = MLE(db_SP2, debug)"
   ]
  },
  {
   "cell_type": "markdown",
   "id": "28b4e657",
   "metadata": {},
   "source": [
    "## Toy data"
   ]
  },
  {
   "cell_type": "code",
   "execution_count": 318,
   "id": "a4d19676",
   "metadata": {},
   "outputs": [],
   "source": [
    "toy_SL2     = make_SL2_dfa(toy_alph)\n",
    "toy_SL2_MLE = MLE(toy_SL2, toy)\n",
    "\n",
    "toy_SP2     = make_SP2_dfas(toy_alph)\n",
    "toy_SP2_MLE = MLE(toy_SP2, toy)"
   ]
  },
  {
   "cell_type": "code",
   "execution_count": null,
   "id": "742f6d90",
   "metadata": {},
   "outputs": [],
   "source": []
  },
  {
   "cell_type": "code",
   "execution_count": null,
   "id": "bca8831b",
   "metadata": {},
   "outputs": [],
   "source": []
  },
  {
   "cell_type": "markdown",
   "id": "50352240",
   "metadata": {},
   "source": [
    "## Navajo data"
   ]
  },
  {
   "cell_type": "code",
   "execution_count": 319,
   "id": "6b787637",
   "metadata": {},
   "outputs": [],
   "source": [
    "nav_SL2     = make_SL2_dfa(navajo_alph)\n",
    "nav_SL2_MLE = MLE(nav_SL2, navajo)\n",
    "\n",
    "nav_SP2     = make_SP2_dfas(navajo_alph)\n",
    "nav_SP2_MLE = MLE(nav_SP2, navajo)"
   ]
  },
  {
   "cell_type": "code",
   "execution_count": null,
   "id": "0f3dca28",
   "metadata": {},
   "outputs": [],
   "source": []
  },
  {
   "cell_type": "code",
   "execution_count": null,
   "id": "2e90a181",
   "metadata": {},
   "outputs": [],
   "source": []
  },
  {
   "cell_type": "markdown",
   "id": "da1f615d",
   "metadata": {},
   "source": [
    "## Quechua data"
   ]
  },
  {
   "cell_type": "code",
   "execution_count": 321,
   "id": "32cce3f1",
   "metadata": {},
   "outputs": [],
   "source": [
    "que_SL2     = make_SL2_dfa(quechua_alph)\n",
    "que_SL2_MLE = MLE(que_SL2, quechua)\n",
    "\n",
    "que_SP2     = make_SP2_dfas(quechua_alph)\n",
    "que_SP2_MLE = MLE(que_SP2, quechua)"
   ]
  },
  {
   "cell_type": "code",
   "execution_count": 324,
   "id": "3b7b258c",
   "metadata": {},
   "outputs": [
    {
     "name": "stderr",
     "output_type": "stream",
     "text": [
      "Icon theme \"breeze\" not found.\n"
     ]
    }
   ],
   "source": []
  },
  {
   "cell_type": "code",
   "execution_count": null,
   "id": "2871c698",
   "metadata": {},
   "outputs": [],
   "source": []
  }
 ],
 "metadata": {
  "kernelspec": {
   "display_name": "Python 3 (ipykernel)",
   "language": "python",
   "name": "python3"
  },
  "language_info": {
   "codemirror_mode": {
    "name": "ipython",
    "version": 3
   },
   "file_extension": ".py",
   "mimetype": "text/x-python",
   "name": "python",
   "nbconvert_exporter": "python",
   "pygments_lexer": "ipython3",
   "version": "3.10.6"
  }
 },
 "nbformat": 4,
 "nbformat_minor": 5
}
