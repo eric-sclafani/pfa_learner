{
 "cells": [
  {
   "cell_type": "markdown",
   "id": "435febec",
   "metadata": {},
   "source": [
    "# Learnability Project: PFA Phonotactic Learner\n",
    "\n",
    "------\n",
    "\n",
    "## General functions and other stuff"
   ]
  },
  {
   "cell_type": "code",
   "execution_count": 295,
   "id": "847077f7",
   "metadata": {},
   "outputs": [],
   "source": [
    "from pyfoma import FST, State\n",
    "from math import log, exp\n",
    "\n",
    "lam = \"λ\"\n",
    "\n",
    "\n",
    "def data_iterator(path):\n",
    "    \"\"\"Yield a word as a list of tokens\"\"\"\n",
    "    with open (path, \"r\") as fin:\n",
    "        for line in fin.readlines():\n",
    "            yield line.split()\n",
    "            \n",
    "            \n",
    "def make_alphabet(path) -> list:\n",
    "    \"\"\"This function extracts an alphabet from a corpusl\"\"\"\n",
    "    alph = []\n",
    "    for word in data_iterator(path):\n",
    "        for sym in word:\n",
    "            if sym not in alph:\n",
    "                alph.append(sym)\n",
    "    return alph"
   ]
  },
  {
   "cell_type": "markdown",
   "id": "769e70fc",
   "metadata": {},
   "source": [
    "## Strictly 2-Local DFA Creation"
   ]
  },
  {
   "cell_type": "code",
   "execution_count": 252,
   "id": "f50f441a",
   "metadata": {},
   "outputs": [],
   "source": [
    "def make_SL2_dfa(alphabet:list) -> list[FST]:\n",
    "    \"\"\"This function initializes a 2-SL DFA according to an alphabet. All weights are set to 0 by default\"\"\"\n",
    "    \n",
    "    # create the FST object and instantiate the initial state\n",
    "    dfa = FST()\n",
    "    q0 = dfa.initialstate\n",
    "    q0.finalweight = 0\n",
    "    q0.name = lam\n",
    "    states = {q0,}\n",
    "    \n",
    "    # initialize all states and connect q0 to them\n",
    "    for sym in alphabet:\n",
    "        q = State()\n",
    "        q.name = sym\n",
    "        q0.add_transition(q, sym, 0)\n",
    "        states.add(q)\n",
    "        q.finalweight = 0\n",
    "    \n",
    "    # loopify the states, excluding q0\n",
    "    states_no_q0 = set([s for s in states if s.name != lam])\n",
    "    for state1 in states_no_q0:\n",
    "        for state2 in states_no_q0:\n",
    "            state1.add_transition(state2, state2.name, 0)\n",
    "    \n",
    "    dfa.states      = states\n",
    "    dfa.finalstates = states\n",
    "    dfa.alphabet    = alphabet\n",
    "    \n",
    "    return [dfa]"
   ]
  },
  {
   "cell_type": "markdown",
   "id": "def0b535",
   "metadata": {},
   "source": [
    "## Strictly 2-Piecewise Creation"
   ]
  },
  {
   "cell_type": "code",
   "execution_count": 229,
   "id": "3b5ff15b",
   "metadata": {},
   "outputs": [],
   "source": [
    "def make_SP2_dfas(alphabet:list) -> list[FST]:\n",
    "    \"\"\"This function intitializes 2SP machines according the length of the alphabet\"\"\"\n",
    "    SP2_machines = []\n",
    "    \n",
    "    # initializes all 2 state machines and loopify them\n",
    "    for sym1 in alphabet:\n",
    "        dfa             = FST()\n",
    "        q0              = dfa.initialstate\n",
    "        q0.finalweight  = 0\n",
    "        q0.name         = lam\n",
    "        q1              = State()\n",
    "        q1.finalweight  = 0\n",
    "        q1.name         = sym1\n",
    "        dfa.states      = {q0, q1}\n",
    "        dfa.finalstates = {q0, q1}\n",
    "        dfa.alphabet    = alphabet\n",
    "        q0.add_transition(q1, sym1, 0)\n",
    "        \n",
    "        # loopification\n",
    "        for sym2 in alphabet:\n",
    "            if sym1 != sym2:\n",
    "                q0.add_transition(q0, sym2, 0)\n",
    "            \n",
    "            q1.add_transition(q1, sym2, 0)\n",
    "        \n",
    "        SP2_machines.append(dfa)\n",
    "     \n",
    "    return SP2_machines"
   ]
  },
  {
   "cell_type": "markdown",
   "id": "5e1b7e69",
   "metadata": {},
   "source": [
    "## MLE"
   ]
  },
  {
   "cell_type": "code",
   "execution_count": 307,
   "id": "4e177652",
   "metadata": {},
   "outputs": [],
   "source": [
    "def update_transitions(dfas:list[FST], path:str) -> list[FST]:\n",
    "   \n",
    "    for word in data_iterator(path):\n",
    "        for dfa in dfas:\n",
    "            cs = dfa.initialstate # gets set back to q0 when a new word is processed\n",
    "            \n",
    "            for token in word:\n",
    "                for _, trans in cs.all_transitions():\n",
    "\n",
    "                    if trans.label == token: # find the transition that matches the current token\n",
    "                        trans.weight += 1\n",
    "                        \n",
    "                    if token == trans.targetstate.name: # update cs to transition's target state. This is how we \"traverse\" the states\n",
    "                        cs = trans.targetstate\n",
    "                                 \n",
    "            cs.finalweight += 1 # update the weight of the last state the current string ends in\n",
    "            \n",
    "    return dfas\n",
    "\n",
    "def get_trans_sum(state):\n",
    "    \"\"\"sums all the transition weights (counts) and the finalweight for given state \"\"\"\n",
    "    return sum([tran.weight for _, tran in state.all_transitions()])\n",
    "\n",
    "\n",
    "def assert_sum_to_1(dfa:FST) -> None:\n",
    "    \"\"\"This functoion asserts that each state's transition weights sum to 1\"\"\"\n",
    "    for state in dfa.states:\n",
    "        try:\n",
    "            total = get_trans_sum(state) + state.finalweight\n",
    "            assert total > .99 # accounts for floating point precision\n",
    "\n",
    "        except AssertionError:\n",
    "            print(f\"State: {state.name} is misbehaving!\\nWeighted sum: {total} != 1\\n\")\n",
    "            raise RuntimeError\n",
    "\n",
    "def MLE(dfas:list[FST], path:str) -> list[FST]:\n",
    "    \"\"\"This function takes one or more dfas, updates the weights from a corpus, and normalizes\"\"\"\n",
    "    dfas = update_transitions(dfas, path)\n",
    "    \n",
    "    for dfa in dfas:\n",
    "        \n",
    "        # list of state weight sums for current dfa\n",
    "        all_state_trans_sums = [get_trans_sum(state) + state.finalweight for state in dfa.states] \n",
    "        \n",
    "\n",
    "        for i, state in enumerate(dfa.states):\n",
    "            for _, trans in state.all_transitions():\n",
    "\n",
    "                #  normalize transition weight by sum of the state's transition weights\n",
    "                trans.weight = (trans.weight) / all_state_trans_sums[i]\n",
    "\n",
    "            state.finalweight = (state.finalweight / all_state_trans_sums[i])\n",
    "\n",
    "        assert_sum_to_1()\n",
    "        \n",
    "            \n",
    "\n",
    "    return dfas"
   ]
  },
  {
   "cell_type": "markdown",
   "id": "b0b93056",
   "metadata": {},
   "source": [
    "## Playground"
   ]
  },
  {
   "cell_type": "code",
   "execution_count": 309,
   "id": "e44f14ec",
   "metadata": {},
   "outputs": [
    {
     "data": {
      "image/svg+xml": [
       "<?xml version=\"1.0\" encoding=\"UTF-8\" standalone=\"no\"?>\n",
       "<!DOCTYPE svg PUBLIC \"-//W3C//DTD SVG 1.1//EN\"\n",
       " \"http://www.w3.org/Graphics/SVG/1.1/DTD/svg11.dtd\">\n",
       "<!-- Generated by graphviz version 2.43.0 (0)\n",
       " -->\n",
       "<!-- Title: FST Pages: 1 -->\n",
       "<svg width=\"292pt\" height=\"153pt\"\n",
       " viewBox=\"0.00 0.00 291.59 152.59\" xmlns=\"http://www.w3.org/2000/svg\" xmlns:xlink=\"http://www.w3.org/1999/xlink\">\n",
       "<g id=\"graph0\" class=\"graph\" transform=\"scale(1 1) rotate(0) translate(4 148.59)\">\n",
       "<title>FST</title>\n",
       "<polygon fill=\"white\" stroke=\"transparent\" points=\"-4,4 -4,-148.59 287.59,-148.59 287.59,4 -4,4\"/>\n",
       "<text text-anchor=\"middle\" x=\"141.8\" y=\"-7.8\" font-family=\"Times,serif\" font-size=\"14.00\">Σ: {a,b,c}</text>\n",
       "<!-- λ/0.23 -->\n",
       "<g id=\"node1\" class=\"node\">\n",
       "<title>λ/0.23</title>\n",
       "<ellipse fill=\"lightgrey\" stroke=\"black\" stroke-width=\"2\" cx=\"48.5\" cy=\"-67.3\" rx=\"40.11\" ry=\"40.11\"/>\n",
       "<ellipse fill=\"none\" stroke=\"black\" stroke-width=\"2\" cx=\"48.5\" cy=\"-67.3\" rx=\"44.09\" ry=\"44.09\"/>\n",
       "<text text-anchor=\"middle\" x=\"48.5\" y=\"-63.6\" font-family=\"Times,serif\" font-size=\"14.00\">λ/0.23</text>\n",
       "</g>\n",
       "<!-- λ/0.23&#45;&gt;λ/0.23 -->\n",
       "<g id=\"edge2\" class=\"edge\">\n",
       "<title>λ/0.23&#45;&gt;λ/0.23</title>\n",
       "<path fill=\"none\" stroke=\"black\" d=\"M32.83,-108.93C33.51,-120.62 38.74,-129.59 48.5,-129.59 55.21,-129.59 59.78,-125.35 62.2,-118.9\"/>\n",
       "<polygon fill=\"black\" stroke=\"black\" points=\"65.66,-119.42 64.17,-108.93 58.8,-118.06 65.66,-119.42\"/>\n",
       "<text text-anchor=\"middle\" x=\"48.5\" y=\"-133.39\" font-family=\"Times,serif\" font-size=\"14.00\">a/0.31, c/0.38</text>\n",
       "</g>\n",
       "<!-- b/0.33 -->\n",
       "<g id=\"node2\" class=\"node\">\n",
       "<title>b/0.33</title>\n",
       "<ellipse fill=\"lightgrey\" stroke=\"black\" cx=\"219.09\" cy=\"-67.3\" rx=\"40.11\" ry=\"40.11\"/>\n",
       "<ellipse fill=\"none\" stroke=\"black\" cx=\"219.09\" cy=\"-67.3\" rx=\"44.09\" ry=\"44.09\"/>\n",
       "<text text-anchor=\"middle\" x=\"219.09\" y=\"-63.6\" font-family=\"Times,serif\" font-size=\"14.00\">b/0.33</text>\n",
       "</g>\n",
       "<!-- λ/0.23&#45;&gt;b/0.33 -->\n",
       "<g id=\"edge1\" class=\"edge\">\n",
       "<title>λ/0.23&#45;&gt;b/0.33</title>\n",
       "<path fill=\"none\" stroke=\"black\" d=\"M92.92,-67.3C114.66,-67.3 141.19,-67.3 164.22,-67.3\"/>\n",
       "<polygon fill=\"black\" stroke=\"black\" points=\"164.53,-70.8 174.53,-67.3 164.53,-63.8 164.53,-70.8\"/>\n",
       "<text text-anchor=\"middle\" x=\"133.8\" y=\"-71.1\" font-family=\"Times,serif\" font-size=\"14.00\">b/0.08</text>\n",
       "</g>\n",
       "<!-- b/0.33&#45;&gt;b/0.33 -->\n",
       "<g id=\"edge3\" class=\"edge\">\n",
       "<title>b/0.33&#45;&gt;b/0.33</title>\n",
       "<path fill=\"none\" stroke=\"black\" d=\"M203.42,-108.93C204.11,-120.62 209.33,-129.59 219.09,-129.59 225.8,-129.59 230.37,-125.35 232.79,-118.9\"/>\n",
       "<polygon fill=\"black\" stroke=\"black\" points=\"236.26,-119.42 234.76,-108.93 229.39,-118.06 236.26,-119.42\"/>\n",
       "<text text-anchor=\"middle\" x=\"219.09\" y=\"-133.39\" font-family=\"Times,serif\" font-size=\"14.00\">a/0.33, b/0.33, c/0</text>\n",
       "</g>\n",
       "</g>\n",
       "</svg>\n"
      ],
      "text/plain": [
       "<graphviz.graphs.Digraph at 0x7ff526c42fb0>"
      ]
     },
     "execution_count": 309,
     "metadata": {},
     "output_type": "execute_result"
    }
   ],
   "source": [
    "# Learning data paths\n",
    "debug   = \"data/eric_debugging_data.txt\"\n",
    "toy     = \"data/LearningData.txt\"\n",
    "navajo  = \"data/LearningData_navajo.txt\"\n",
    "quechua = \"data/LearningData_quechua.txt\"\n",
    "\n",
    "toy_alph = make_alphabet(toy)\n",
    "debug_alph = make_alphabet(debug)\n",
    "\n",
    "db_SL2     = make_SL2_dfa(debug_alph)\n",
    "db_SL2_MLE = MLE(db_SL2, debug)\n",
    "\n",
    "\n",
    "db_SP2     = make_SP2_dfas(debug_alph)\n",
    "db_SP2_MLE = MLE(db_SP2, debug)\n",
    "\n",
    "db_SP2_MLE[1].view()"
   ]
  },
  {
   "cell_type": "markdown",
   "id": "8a863161",
   "metadata": {},
   "source": [
    "\n",
    "\n",
    "sum log probs along path given string\n",
    "\n"
   ]
  },
  {
   "cell_type": "code",
   "execution_count": null,
   "id": "6194f791",
   "metadata": {
    "scrolled": true
   },
   "outputs": [],
   "source": []
  },
  {
   "cell_type": "code",
   "execution_count": null,
   "id": "dde2cc70",
   "metadata": {},
   "outputs": [],
   "source": []
  },
  {
   "cell_type": "code",
   "execution_count": null,
   "id": "64c6bb59",
   "metadata": {},
   "outputs": [],
   "source": []
  }
 ],
 "metadata": {
  "kernelspec": {
   "display_name": "Python 3 (ipykernel)",
   "language": "python",
   "name": "python3"
  },
  "language_info": {
   "codemirror_mode": {
    "name": "ipython",
    "version": 3
   },
   "file_extension": ".py",
   "mimetype": "text/x-python",
   "name": "python",
   "nbconvert_exporter": "python",
   "pygments_lexer": "ipython3",
   "version": "3.10.6"
  }
 },
 "nbformat": 4,
 "nbformat_minor": 5
}
