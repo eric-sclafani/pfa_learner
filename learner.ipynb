{
 "cells": [
  {
   "cell_type": "markdown",
   "id": "435febec",
   "metadata": {},
   "source": [
    "# Learnability Project: PFA Phonotactic Learner\n"
   ]
  },
  {
   "cell_type": "code",
   "execution_count": 63,
   "id": "847077f7",
   "metadata": {},
   "outputs": [],
   "source": [
    "from pyfoma import FST, State\n",
    "from collections import Counter\n",
    "\n",
    "Lfish = \"⋊\"\n",
    "Rfish = \"⋉\"\n",
    "\n",
    "\n",
    "def data_iterator(path):\n",
    "    \"\"\"Yield a word as a list of tokens\"\"\"\n",
    "    with open (path, \"r\") as fin:\n",
    "        for line in fin.readlines():\n",
    "            yield line.split()\n",
    "            \n",
    "def make_alphabet(path) -> list:\n",
    "    alph = []\n",
    "    for word in data_iterator(path):\n",
    "        for sym in word:\n",
    "            if sym not in alph:\n",
    "                alph.append(sym)\n",
    "    return alph\n",
    "    \n",
    "def make_2_SL_dfa(alphabet:list) -> (FST, set[State]):\n",
    "    \"\"\"This function initializes a 2-SL PFA according to an alphabet. All weights are set to 0 by default\"\"\"\n",
    "    \n",
    "    # create the FST object and instantiate the initial state\n",
    "    dfa = FST()\n",
    "    q0 = dfa.initialstate\n",
    "    q0.finalweight = 0\n",
    "    q0.name = Lfish\n",
    "    states = {q0,}\n",
    "    \n",
    "    # initialize all 42 states with incoming q0 transitions\n",
    "    for symbol in alphabet:\n",
    "        q = State()\n",
    "        q.name = symbol\n",
    "        q0.add_transition(q, symbol, 0)\n",
    "        states.add(q)\n",
    "        q.finalweight = 0\n",
    "    \n",
    "    # loopify the states, excluding q0\n",
    "    states_no_q0 = set([s for s in states if s.name != Lfish])\n",
    "    for state1 in states_no_q0:\n",
    "        for state2 in states_no_q0:\n",
    "            state1.add_transition(state2, state2.name, 0)\n",
    "    \n",
    "    dfa.states      = states\n",
    "    dfa.finalstates = states\n",
    "    dfa.alphabet    = alphabet\n",
    "    return dfa\n",
    "\n",
    "        \n",
    "def MLE(dfa:FST, path):\n",
    "    \n",
    "    \n",
    "    # this block updates each transition whenever it is \"passed through\"\n",
    "    # Specifically, it iterates over the outgoing transitions for each state, checks which transition label\n",
    "    # matches the current token in the word, and then increments that transition's weight by 1\n",
    "    for word in data_iterator(path):\n",
    "        cs = dfa.initialstate # gets set back to q0 when a new word is processed\n",
    "        for token in word:\n",
    "            for _, trans in cs.all_transitions():\n",
    "                \n",
    "                if trans.label == token:\n",
    "                    trans.weight += 1\n",
    "                    cs = trans.targetstate # update cs with the transition's target state\n",
    "                    \n",
    "        cs.finalweight += 1 # update the weight of the last state the current string ends in\n",
    "                    \n",
    "                    \n",
    "    \n",
    "\n",
    "    for state in dfa.states:\n",
    "        print(f\"STATE: {state.name}, WEIGHT: {state.finalweight}\")\n"
   ]
  },
  {
   "cell_type": "code",
   "execution_count": 64,
   "id": "3b5ff15b",
   "metadata": {},
   "outputs": [
    {
     "name": "stdout",
     "output_type": "stream",
     "text": [
      "STATE: b, WEIGHT: 5\n",
      "STATE: a, WEIGHT: 9\n",
      "STATE: ⋊, WEIGHT: 0\n",
      "STATE: c, WEIGHT: 1\n"
     ]
    }
   ],
   "source": [
    "# toy_alphabet = make_alphabet(\"data/LearningData.txt\")\n",
    "# toy_2SL = make_2_SL_dfa(toy_alphabet)\n",
    "# toy_MLE = MLE(toy_2SL, \"data/LearningData.txt\")\n",
    "\n",
    "toy_alphabet = make_alphabet(\"data/eric_debugging_data.txt\")\n",
    "toy_2SL = make_2_SL_dfa(toy_alphabet)\n",
    "toy_MLE = MLE(toy_2SL, \"data/eric_debugging_data.txt\")\n",
    "\n"
   ]
  },
  {
   "cell_type": "code",
   "execution_count": null,
   "id": "c94a6973",
   "metadata": {},
   "outputs": [],
   "source": []
  },
  {
   "cell_type": "code",
   "execution_count": null,
   "id": "e44f14ec",
   "metadata": {},
   "outputs": [],
   "source": []
  },
  {
   "cell_type": "markdown",
   "id": "8a863161",
   "metadata": {},
   "source": [
    "##  notes\n",
    "\n",
    "MLE(dfa, corpus) = dfa' \n",
    "\n",
    "create_SL2_dfa (alphabet\n",
    "\n",
    "getalphabet(corpus) = set_of_letters \n",
    "\n",
    "Q = all strings of length less than k\n",
    "\n",
    "I = \"\" \n",
    "\n",
    "F = Q\n",
    "\n",
    "delta(q,a) = k-1 suffix of qa \n",
    "\n",
    "example: (a,b) = k-1 suffix of ab which is b (k=2)\n",
    "\n",
    "Example; Suppose k=4. Then delta(aaa,b) = 3 suffix of aaab, which is aab \n",
    "\n",
    "Also if qa is of length less than k-1 than the k-1 suffix of qa is just qa \n",
    "\n",
    "3 suffix of aa is aa\n",
    "\n",
    "BIGRAM: all possible states given alphabet (given k)\n",
    "\n",
    "42 SP machines, 1 SL machine\n",
    "\n",
    "### NOTE:\n",
    "Multi-symbol labels get delimited by colons when displayed via `render`. So, \"abc\" -> \"a:b:c\" (for some really odd reason)"
   ]
  },
  {
   "cell_type": "code",
   "execution_count": null,
   "id": "6194f791",
   "metadata": {},
   "outputs": [],
   "source": []
  }
 ],
 "metadata": {
  "kernelspec": {
   "display_name": "Python 3 (ipykernel)",
   "language": "python",
   "name": "python3"
  },
  "language_info": {
   "codemirror_mode": {
    "name": "ipython",
    "version": 3
   },
   "file_extension": ".py",
   "mimetype": "text/x-python",
   "name": "python",
   "nbconvert_exporter": "python",
   "pygments_lexer": "ipython3",
   "version": "3.11.0"
  }
 },
 "nbformat": 4,
 "nbformat_minor": 5
}
