{
 "cells": [
  {
   "cell_type": "markdown",
   "id": "435febec",
   "metadata": {},
   "source": [
    "# Learnability Project: PFA Phonotactic Learner\n"
   ]
  },
  {
   "cell_type": "code",
   "execution_count": 213,
   "id": "847077f7",
   "metadata": {},
   "outputs": [],
   "source": [
    "from pyfoma import FST, State\n",
    "\n",
    "fish = \"⋉\"\n",
    "\n",
    "def data_iterator(path):\n",
    "    \"\"\"Yield a word as a list of tokens\"\"\"\n",
    "    with open (path, \"r\") as fin:\n",
    "        for line in fin.readlines():\n",
    "            yield line.split()\n",
    "            \n",
    "def make_alphabet(path_to_corpus) -> list:\n",
    "    alph = []\n",
    "    for word in data_iterator(path_to_corpus):\n",
    "        for sym in word:\n",
    "            if sym not in alph:\n",
    "                alph.append(sym)\n",
    "    return alph\n",
    "\n",
    "def make_2_SL_dfa(alphabet:list) -> (FST, set[State]):\n",
    "    \"\"\"This function initializes a 2-SL PFA. All weights are set to 0 by default\"\"\"\n",
    "    fst = FST()\n",
    "    q0 = fst.initialstate\n",
    "    q0.finalweight = 0\n",
    "    q0.name = \"q0\"\n",
    "    states = {q0,}\n",
    "    \n",
    "    # initialize all 42 states\n",
    "    for symbol in alphabet:\n",
    "        q = State()\n",
    "        q.name = symbol\n",
    "        q0.add_transition(q, symbol, 0)\n",
    "        states.add(q)\n",
    "        q.finalweight = 0\n",
    "    \n",
    "    # loopify the states\n",
    "    states_no_q0 = set([s for s in states if s.name != \"q0\"])\n",
    "    for state1 in states_no_q0:\n",
    "        for state2 in states_no_q0:\n",
    "            state1.add_transition(state2, state2.name, 0)\n",
    "    \n",
    "    fst.states      = states\n",
    "    fst.finalstates = set(states)\n",
    "    fst.alphabet    = set(alphabet)\n",
    "    return fst\n",
    "    \n",
    "    \n",
    "    \n",
    "\n",
    "\n",
    "toy_alphabet = make_alphabet(\"data/LearningData.txt\")\n",
    "toy_2SL = make_2_SL_dfa(toy_alphabet)"
   ]
  },
  {
   "cell_type": "code",
   "execution_count": 228,
   "id": "3b5ff15b",
   "metadata": {},
   "outputs": [
    {
     "name": "stdout",
     "output_type": "stream",
     "text": [
      "('NaNaura', 0.0)\n"
     ]
    }
   ],
   "source": [
    "\n",
    "for word in toy_2SL.apply(\"NaNaura\", weights=True):\n",
    "    print(word)\n"
   ]
  },
  {
   "cell_type": "code",
   "execution_count": null,
   "id": "c94a6973",
   "metadata": {},
   "outputs": [],
   "source": []
  },
  {
   "cell_type": "code",
   "execution_count": null,
   "id": "2675f752",
   "metadata": {},
   "outputs": [],
   "source": []
  },
  {
   "cell_type": "markdown",
   "id": "8782a710",
   "metadata": {},
   "source": [
    "##  notes\n",
    "\n",
    "MLE(dfa, corpus) = dfa' \n",
    "\n",
    "create_SL2_dfa (alphabet\n",
    "\n",
    "getalphabet(corpus) = set_of_letters \n",
    "\n",
    "Q = all strings of length less than k\n",
    "\n",
    "I = \"\" \n",
    "\n",
    "F = Q\n",
    "\n",
    "delta(q,a) = k-1 suffix of qa \n",
    "\n",
    "example: (a,b) = k-1 suffix of ab which is b (k=2)\n",
    "\n",
    "Example; Suppose k=4. Then delta(aaa,b) = 3 suffix of aaab, which is aab \n",
    "\n",
    "Also if qa is of length less than k-1 than the k-1 suffix of qa is just qa \n",
    "\n",
    "3 suffix of aa is aa\n",
    "\n",
    "BIGRAM: all possible states given alphabet (given k)\n",
    "\n",
    "42 SP machines, 1 SL machine\n",
    "\n",
    "### NOTE:\n",
    "Multi-symbol labels get delimited by colons when displayed via `render`. So, \"abc\" -> \"a:b:c\" (for some really odd reason)"
   ]
  },
  {
   "cell_type": "code",
   "execution_count": null,
   "id": "63b83653",
   "metadata": {},
   "outputs": [],
   "source": []
  }
 ],
 "metadata": {
  "kernelspec": {
   "display_name": "Python 3 (ipykernel)",
   "language": "python",
   "name": "python3"
  },
  "language_info": {
   "codemirror_mode": {
    "name": "ipython",
    "version": 3
   },
   "file_extension": ".py",
   "mimetype": "text/x-python",
   "name": "python",
   "nbconvert_exporter": "python",
   "pygments_lexer": "ipython3",
   "version": "3.11.0"
  }
 },
 "nbformat": 4,
 "nbformat_minor": 5
}
